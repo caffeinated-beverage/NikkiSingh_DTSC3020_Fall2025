{
  "cells": [
    {
      "cell_type": "markdown",
      "metadata": {
        "id": "view-in-github",
        "colab_type": "text"
      },
      "source": [
        "<a href=\"https://colab.research.google.com/github/caffeinated-beverage/NikkiSingh_DTSC3020_Fall2025/blob/main/assignment03_ns1239.ipynb\" target=\"_parent\"><img src=\"https://colab.research.google.com/assets/colab-badge.svg\" alt=\"Open In Colab\"/></a>"
      ]
    },
    {
      "cell_type": "markdown",
      "metadata": {
        "id": "nevCG4Qs0b8R"
      },
      "source": [
        "# DTSC 3020 – Assignment 3\n",
        "\n",
        "This exercise focuses on **if statements and conditional logic** in Python and is designed to help students practice decision-making structures.\n",
        "\n",
        "**Total points:** 5  \n",
        "**Deadline:** Friday at midnight  \n",
        "**Submission:** Upload your Python file to your GitHub repository and submit **only your GitHub link**.\n",
        "\n",
        "### Expectations\n",
        "- Write complete answers and run all cells before submission.\n",
        "- Keep the notebook clean (no unnecessary code).\n",
        "\n"
      ],
      "id": "nevCG4Qs0b8R"
    },
    {
      "cell_type": "markdown",
      "metadata": {
        "id": "gfumj0DY0b8f"
      },
      "source": [
        "## Question 1 – Movie Ticket System\n",
        "Write a Python code that checks the price of a movie ticket.\n",
        "If the age is between 0 and 11 it is Child, if between 12 and 17 it is Teen, and if 18 or older it is Adult.\n",
        "Print the category and the ticket price (you choose the price).\n",
        "Run the program with age = 16."
      ],
      "id": "gfumj0DY0b8f"
    },
    {
      "cell_type": "code",
      "metadata": {
        "id": "67TGDT6w0b8k",
        "colab": {
          "base_uri": "https://localhost:8080/"
        },
        "outputId": "a9846e55-60fb-4419-a7e1-8b6feb1453d8"
      },
      "execution_count": 1,
      "outputs": [
        {
          "output_type": "stream",
          "name": "stdout",
          "text": [
            "Age: 16\n",
            "Category: Teen\n",
            "Ticket Price: $5\n"
          ]
        }
      ],
      "source": [
        "age = 16\n",
        "ticket_price = 5\n",
        "\n",
        "if 0 <= age <= 11:\n",
        "  category = \"Child\"\n",
        "elif 12 <= age <= 17:\n",
        "  category = \"Teen\"\n",
        "else:\n",
        "  category = \"Adult\"\n",
        "\n",
        "print(f\"Age: {age}\")\n",
        "print(f\"Category: {category}\")\n",
        "print(f\"Ticket Price: ${ticket_price}\")"
      ],
      "id": "67TGDT6w0b8k"
    },
    {
      "cell_type": "markdown",
      "metadata": {
        "id": "_tUFNVKT0b8r"
      },
      "source": [
        "## Question 2 – Online Store Discount\n",
        "Write a Python code that applies a discount based on the shopping cart total.\n",
        "If the total is less than 50 dollars there is no discount, if the total is between 50 and 99 dollars there is a 10 percent discount, and if the total is 100 dollars or more there is a 20 percent discount.\n",
        "Print the original total, the discount, and the final price.\n",
        "Run the program with cart_total = 85."
      ],
      "id": "_tUFNVKT0b8r"
    },
    {
      "cell_type": "code",
      "metadata": {
        "id": "yTtX719o0b8v",
        "colab": {
          "base_uri": "https://localhost:8080/"
        },
        "outputId": "55340e45-3c73-44e0-a1f7-fa290c671cb1"
      },
      "execution_count": 10,
      "outputs": [
        {
          "output_type": "stream",
          "name": "stdout",
          "text": [
            "Original Total: $85.00\n",
            "Discount: $8.50\n",
            "Final Price: $76.50\n"
          ]
        }
      ],
      "source": [
        "cart_total = 85\n",
        "\n",
        "if cart_total < 50:\n",
        "  discount_percent = 0.0\n",
        "elif 50 <= cart_total <= 99:\n",
        "  discount_percent = 0.10\n",
        "else:\n",
        "  discount_percent = 0.20\n",
        "\n",
        "discount_total = cart_total * discount_percent\n",
        "final_price = cart_total - discount_total\n",
        "\n",
        "print(f\"Original Total: ${cart_total:.2f}\")\n",
        "print(f\"Discount: ${discount_total:.2f}\")\n",
        "print(f\"Final Price: ${final_price:.2f}\")"
      ],
      "id": "yTtX719o0b8v"
    },
    {
      "cell_type": "markdown",
      "metadata": {
        "id": "uOUYYC870b8x"
      },
      "source": [
        "## Question 3 – Exam Grading\n",
        "Write a Python code that gives a letter grade for a score.\n",
        "If the score is between 90 and 100 the grade is A, if between 80 and 89 the grade is B, if between 70 and 79 the grade is C, if between 60 and 69 the grade is D, and if below 60 the grade is F.\n",
        "Print the grade and a short message.\n",
        "Run the program with score = 73."
      ],
      "id": "uOUYYC870b8x"
    },
    {
      "cell_type": "code",
      "metadata": {
        "id": "HDtf_YLG0b8y",
        "colab": {
          "base_uri": "https://localhost:8080/"
        },
        "outputId": "989f7521-9f7d-4e3a-ea05-6cced18dd4ef"
      },
      "execution_count": 12,
      "outputs": [
        {
          "output_type": "stream",
          "name": "stdout",
          "text": [
            "Score: 73\n",
            "Your grade is: C\n",
            "Message: You passed!\n"
          ]
        }
      ],
      "source": [
        "score = 73\n",
        "\n",
        "if 90 <= score <= 100:\n",
        "  grade = \"A\"\n",
        "  message = \"Perfect!\"\n",
        "elif 80 <= score <= 89:\n",
        "  grade = \"B\"\n",
        "  message = \"Great!\"\n",
        "elif 70 <= score <= 79:\n",
        "  grade = \"C\"\n",
        "  message = \"You passed!\"\n",
        "elif 60 <= score <= 69:\n",
        "  grade = \"D\"\n",
        "  message = \"So close!\"\n",
        "else:\n",
        "  grade = \"F\"\n",
        "  message = \"whomp whomp...\"\n",
        "\n",
        "print(f\"Score: {score}\")\n",
        "print(f\"Your grade is: {grade}\")\n",
        "print(f\"Message: {message}\")"
      ],
      "id": "HDtf_YLG0b8y"
    },
    {
      "cell_type": "markdown",
      "metadata": {
        "id": "ZCIKM6Xs0b80"
      },
      "source": [
        "## Question 4 – Parking Fee\n",
        "Write a Python code that calculates parking fees.\n",
        "If the car is parked for 0 to 2 hours the parking is free, if the car is parked for 3 to 5 hours the fee is 3 dollars per hour, and if the car is parked for more than 5 hours the fee is 3 dollars per hour for the first three hours after free and then 5 dollars per hour for the rest.\n",
        "Print the number of hours and the total fee.\n",
        "Run the program with hours = 6."
      ],
      "id": "ZCIKM6Xs0b80"
    },
    {
      "cell_type": "code",
      "metadata": {
        "id": "g3a_sPo50b81",
        "colab": {
          "base_uri": "https://localhost:8080/"
        },
        "outputId": "0ce86c85-d8d5-41c8-bfd9-02a1214f8f7d"
      },
      "execution_count": 20,
      "outputs": [
        {
          "output_type": "stream",
          "name": "stdout",
          "text": [
            "Hours Parked: 6\n",
            "Total Fee: $14.00\n"
          ]
        }
      ],
      "source": [
        "hours_parked = 6\n",
        "total_fee = 0.0\n",
        "\n",
        "if hours_parked <= 2:\n",
        "  total_fee = 0.0\n",
        "elif 3 <= hours_parked <= 5:\n",
        "  total_fee = hours_parked * 3\n",
        "else:\n",
        "  initial_fee = 3 * 3\n",
        "  remaining_hours = hours_parked - 5\n",
        "  remaining_fee = remaining_hours * 5\n",
        "  total_fee = initial_fee + remaining_fee\n",
        "\n",
        "print(f\"Hours Parked: {hours_parked}\")\n",
        "print(f\"Total Fee: ${total_fee:.2f}\")"
      ],
      "id": "g3a_sPo50b81"
    },
    {
      "cell_type": "markdown",
      "metadata": {
        "id": "XBf0-SPz0b83"
      },
      "source": [
        "## Question 5 – Cafeteria Menu\n",
        "Write a Python code that creates a list with three food items.\n",
        "Check if an order is in the list.\n",
        "If the item is in the list print a confirmation, and if the item is not in the list print a polite message.\n",
        "Run the program with menu = ['pizza','salad','sandwich'] and order = 'salad'."
      ],
      "id": "XBf0-SPz0b83"
    },
    {
      "cell_type": "code",
      "metadata": {
        "id": "y52UEMoX0b85",
        "colab": {
          "base_uri": "https://localhost:8080/"
        },
        "outputId": "e418a08a-fbb8-41c3-b618-14e4e15b1e8a"
      },
      "execution_count": 23,
      "outputs": [
        {
          "output_type": "stream",
          "name": "stdout",
          "text": [
            "We are now preparing your salad order.\n"
          ]
        }
      ],
      "source": [
        "menu = ['pizza','salad','sandwich']\n",
        "\n",
        "order = 'salad'\n",
        "\n",
        "if order in menu:\n",
        "  print(f\"We are now preparing your {order} order.\")\n",
        "else:\n",
        "  print(f\"Sorry, but {order} is not on the menu today.\")"
      ],
      "id": "y52UEMoX0b85"
    },
    {
      "cell_type": "markdown",
      "metadata": {
        "id": "-60rL71F0b86"
      },
      "source": [
        "## Question 6 – Job Application Filter\n",
        "Write a Python code that checks if a person is eligible for a job.\n",
        "If the person is older than 22 and has more than 2 years of experience print Accepted.\n",
        "Otherwise print Not Accepted.\n",
        "Run the program with age = 23 and experience = 1."
      ],
      "id": "-60rL71F0b86"
    },
    {
      "cell_type": "code",
      "metadata": {
        "id": "-h964CqY0b88",
        "colab": {
          "base_uri": "https://localhost:8080/"
        },
        "outputId": "4d7d1009-81d9-4c71-b7c3-d87132aa2422"
      },
      "execution_count": 26,
      "outputs": [
        {
          "output_type": "stream",
          "name": "stdout",
          "text": [
            "Not Accepted.\n"
          ]
        }
      ],
      "source": [
        "age = 23\n",
        "experience = 1\n",
        "\n",
        "if age > 22 and experience > 2:\n",
        "  print(f\"Accepted!\")\n",
        "else:\n",
        "  print(f\"Not Accepted.\")"
      ],
      "id": "-h964CqY0b88"
    },
    {
      "cell_type": "markdown",
      "metadata": {
        "id": "MOMMxnuE0b8-"
      },
      "source": [
        "## Question 7 – Clothing Advice\n",
        "Write a Python code that suggests clothing based on the temperature.\n",
        "If the temperature is below 10 print Coat and gloves, if the temperature is between 10 and 19 print Jacket, and if the temperature is 20 or more print T-shirt.\n",
        "Run the program with temperature = 15."
      ],
      "id": "MOMMxnuE0b8-"
    },
    {
      "cell_type": "code",
      "metadata": {
        "id": "V6RtrCOa0b8_",
        "colab": {
          "base_uri": "https://localhost:8080/"
        },
        "outputId": "1ea36b9e-85ac-464b-c181-668754fd062f"
      },
      "execution_count": 33,
      "outputs": [
        {
          "output_type": "stream",
          "name": "stdout",
          "text": [
            "I'd suggest wearing a jacket.\n"
          ]
        }
      ],
      "source": [
        "temperature = 15\n",
        "\n",
        "if temperature < 10:\n",
        "  print(f\"Perhaps put on a coat and gloves.\")\n",
        "elif temperature < 20:\n",
        "  print(f\"I'd suggest wearing a jacket.\")\n",
        "else:\n",
        "  print(f\"It's hot. Try a t-shirt.\")"
      ],
      "id": "V6RtrCOa0b8_"
    },
    {
      "cell_type": "markdown",
      "metadata": {
        "id": "R-i9Jzpn0b9A"
      },
      "source": [
        "## Question 8 – Loan Eligibility\n",
        "Write a Python code that checks loan eligibility.\n",
        "If the salary is at least 3000 and the credit score is at least 650 print Loan Approved, otherwise print Loan Denied.\n",
        "Run the program with salary = 3500 and credit_score = 640."
      ],
      "id": "R-i9Jzpn0b9A"
    },
    {
      "cell_type": "code",
      "metadata": {
        "id": "2M0s0bC40b9B",
        "colab": {
          "base_uri": "https://localhost:8080/"
        },
        "outputId": "4a97f654-396b-4f3d-a0dc-76dfdb293603"
      },
      "execution_count": 40,
      "outputs": [
        {
          "output_type": "stream",
          "name": "stdout",
          "text": [
            "Loan Denied.\n"
          ]
        }
      ],
      "source": [
        "salary = 3500\n",
        "credit_score = 640\n",
        "\n",
        "if salary >= 3000 and credit_score >= 650:\n",
        "  print(f\"Loan Approved!\")\n",
        "else:\n",
        "  print(f\"Loan Denied.\")"
      ],
      "id": "2M0s0bC40b9B"
    },
    {
      "cell_type": "markdown",
      "metadata": {
        "id": "I0WmTyFv0b9D"
      },
      "source": [
        "## Question 9 – Password Strength\n",
        "Write a Python code that checks if a password is strong, medium, or weak based on its length.\n",
        "If the password has fewer than 6 characters it is Weak, if it has 6 to 10 characters it is Medium, and if it has more than 10 characters it is Strong.\n",
        "Print the strength.\n",
        "Run the program with password = 'hello123'."
      ],
      "id": "I0WmTyFv0b9D"
    },
    {
      "cell_type": "code",
      "metadata": {
        "id": "Jm8fu7ft0b9E",
        "colab": {
          "base_uri": "https://localhost:8080/"
        },
        "outputId": "2ba19017-234d-41aa-e470-15065492e716"
      },
      "execution_count": 41,
      "outputs": [
        {
          "output_type": "stream",
          "name": "stdout",
          "text": [
            "Strength: Medium\n"
          ]
        }
      ],
      "source": [
        "password = 'hello123'\n",
        "\n",
        "password_length = len(password)\n",
        "\n",
        "if password_length < 6:\n",
        "  strength = \"Weak\"\n",
        "elif password_length <= 10:\n",
        "  strength = \"Medium\"\n",
        "else:\n",
        "  strength = \"Strong\"\n",
        "\n",
        "print(f\"Strength: {strength}\")"
      ],
      "id": "Jm8fu7ft0b9E"
    },
    {
      "cell_type": "markdown",
      "metadata": {
        "id": "kgKSm4WB0b9F"
      },
      "source": [
        "## Question 10 – Guest List Checker\n",
        "Write a Python code that creates a list with three invited guests.\n",
        "Define a variable for a guest name.\n",
        "Check if the guest name is in the list.\n",
        "If the guest is in the list print Welcome, and if the guest is not in the list print Not on the list.\n",
        "Run the program with guest = 'Sara'."
      ],
      "id": "kgKSm4WB0b9F"
    },
    {
      "cell_type": "code",
      "metadata": {
        "id": "4pyiTbMT0b9G",
        "colab": {
          "base_uri": "https://localhost:8080/"
        },
        "outputId": "4eaf1a94-b507-4e66-ecef-6d87af3dbbcf"
      },
      "execution_count": 44,
      "outputs": [
        {
          "output_type": "stream",
          "name": "stdout",
          "text": [
            "Not on the list...\n"
          ]
        }
      ],
      "source": [
        "invite_list = ['Patrick','Nikki','Atlas']\n",
        "guest = 'Sara'\n",
        "\n",
        "if guest in invite_list:\n",
        "  print(f\"Welcome!\")\n",
        "else:\n",
        "  print(f\"Not on the list...\")"
      ],
      "id": "4pyiTbMT0b9G"
    }
  ],
  "metadata": {
    "kernelspec": {
      "display_name": "Python 3",
      "language": "python",
      "name": "python3"
    },
    "language_info": {
      "name": "python",
      "version": "3.x"
    },
    "colab": {
      "provenance": [],
      "include_colab_link": true
    }
  },
  "nbformat": 4,
  "nbformat_minor": 5
}