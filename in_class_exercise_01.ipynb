{
  "nbformat": 4,
  "nbformat_minor": 0,
  "metadata": {
    "colab": {
      "provenance": [],
      "authorship_tag": "ABX9TyOa1VR+fmEe1oUymm9fYB6t",
      "include_colab_link": true
    },
    "kernelspec": {
      "name": "python3",
      "display_name": "Python 3"
    },
    "language_info": {
      "name": "python"
    }
  },
  "cells": [
    {
      "cell_type": "markdown",
      "metadata": {
        "id": "view-in-github",
        "colab_type": "text"
      },
      "source": [
        "<a href=\"https://colab.research.google.com/github/caffeinated-beverage/NikkiSingh_DTSC3020_Fall2025/blob/main/in_class_exercise_01.ipynb\" target=\"_parent\"><img src=\"https://colab.research.google.com/assets/colab-badge.svg\" alt=\"Open In Colab\"/></a>"
      ]
    },
    {
      "cell_type": "code",
      "source": [
        "print(\"Welcome to Python\")\n",
        "\n",
        "print(\"Hello\")\n",
        "print(\"World\")\n",
        "print(\"Hi\")\n",
        "\n",
        "name=\"Nik\"\n",
        "print(name)\n",
        "\n",
        "print(\"Welcome to Python,\",name)\n",
        "\n",
        "print(\"Welcome,\",name)"
      ],
      "metadata": {
        "colab": {
          "base_uri": "https://localhost:8080/"
        },
        "id": "hqK5OfzFSfHp",
        "outputId": "07b30ccb-51d8-4286-b07e-edb67fe73b21"
      },
      "execution_count": 25,
      "outputs": [
        {
          "output_type": "stream",
          "name": "stdout",
          "text": [
            "Welcome to Python\n",
            "Hello\n",
            "World\n",
            "Hi\n",
            "Nik\n",
            "Welcome to Python, Nik\n",
            "Welcome, Nik\n"
          ]
        }
      ]
    }
  ]
}