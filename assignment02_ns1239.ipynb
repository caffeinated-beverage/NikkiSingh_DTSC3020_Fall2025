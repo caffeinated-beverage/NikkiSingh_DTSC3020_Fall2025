{
  "nbformat": 4,
  "nbformat_minor": 0,
  "metadata": {
    "colab": {
      "provenance": [],
      "authorship_tag": "ABX9TyP7NrFBkA570MEair4SGSkF",
      "include_colab_link": true
    },
    "kernelspec": {
      "name": "python3",
      "display_name": "Python 3"
    },
    "language_info": {
      "name": "python"
    }
  },
  "cells": [
    {
      "cell_type": "markdown",
      "metadata": {
        "id": "view-in-github",
        "colab_type": "text"
      },
      "source": [
        "<a href=\"https://colab.research.google.com/github/caffeinated-beverage/NikkiSingh_DTSC3020_Fall2025/blob/main/assignment02_ns1239.ipynb\" target=\"_parent\"><img src=\"https://colab.research.google.com/assets/colab-badge.svg\" alt=\"Open In Colab\"/></a>"
      ]
    },
    {
      "cell_type": "code",
      "execution_count": 30,
      "metadata": {
        "colab": {
          "base_uri": "https://localhost:8080/"
        },
        "id": "gzAhe6p1sFbn",
        "outputId": "870921bd-fbd9-413d-f552-dcecb2b99972"
      },
      "outputs": [
        {
          "output_type": "stream",
          "name": "stdout",
          "text": [
            "['mango', 'peach', 'strawberry']\n",
            "mango\n",
            "peach\n",
            "strawberry\n"
          ]
        }
      ],
      "source": [
        "# Create a list with 3 fruits\n",
        "fruitlist = [\"mango\",\"peach\",\"strawberry\"]\n",
        "\n",
        "# Print the entire list\n",
        "print(fruitlist)\n",
        "\n",
        "# Print each item seperately\n",
        "print(fruitlist[0])\n",
        "print(fruitlist[1])\n",
        "print(fruitlist[2])"
      ]
    },
    {
      "cell_type": "code",
      "source": [
        "# Create a list with 4 names\n",
        "namelist = [\"Nikki\",\"Dax\",\"Ryan\",\"Ben\"]\n",
        "\n",
        "# Change the first name to a different one\n",
        "namelist[0] = \"Patrick\"\n",
        "\n",
        "# Print the new list\n",
        "print(namelist)"
      ],
      "metadata": {
        "colab": {
          "base_uri": "https://localhost:8080/"
        },
        "id": "Ckh5xMTtt4t_",
        "outputId": "ccbed775-5148-4543-8688-5ca1cf267e64"
      },
      "execution_count": 31,
      "outputs": [
        {
          "output_type": "stream",
          "name": "stdout",
          "text": [
            "['Patrick', 'Dax', 'Ryan', 'Ben']\n"
          ]
        }
      ]
    },
    {
      "cell_type": "code",
      "source": [
        "# Create a list with 5 vehicles\n",
        "vehiclelist = [\"motorcycle\",\"car\",\"boat\",\"scooter\",\"bus\"]\n",
        "\n",
        "# Add one more vehicle to the end of the list\n",
        "vehiclelist.append(\"plane\")\n",
        "\n",
        "# Print the list\n",
        "print(vehiclelist)"
      ],
      "metadata": {
        "colab": {
          "base_uri": "https://localhost:8080/"
        },
        "id": "tQsPtr-bvlC1",
        "outputId": "8a2e67af-d494-4585-db6b-78ca413d228f"
      },
      "execution_count": 32,
      "outputs": [
        {
          "output_type": "stream",
          "name": "stdout",
          "text": [
            "['motorcycle', 'car', 'boat', 'scooter', 'bus', 'plane']\n"
          ]
        }
      ]
    },
    {
      "cell_type": "code",
      "source": [
        "# Create a list with 6 foods\n",
        "foodlist = [\"rice\",\"pizza\",\"burger\",\"salad\",\"pasta\",\"breadstick\"]\n",
        "\n",
        "# Remove one food from the list\n",
        "foodlist.remove(\"salad\")\n",
        "\n",
        "# Print the new list\n",
        "print(foodlist)"
      ],
      "metadata": {
        "colab": {
          "base_uri": "https://localhost:8080/"
        },
        "id": "oiYzUUfYuxmd",
        "outputId": "7286ce34-6370-44d2-d371-1d41037d2f9c"
      },
      "execution_count": 33,
      "outputs": [
        {
          "output_type": "stream",
          "name": "stdout",
          "text": [
            "['rice', 'pizza', 'burger', 'pasta', 'breadstick']\n"
          ]
        }
      ]
    },
    {
      "cell_type": "code",
      "source": [
        "# Create a list with 4 cities\n",
        "citylist = [\"Tokyo\",\"New York\",\"Fort Worth\",\"Las Vegas\"]\n",
        "\n",
        "# Sort the list in alphabetical order\n",
        "citylist.sort()\n",
        "print(citylist)\n",
        "\n",
        "# Reverse the list\n",
        "citylist.reverse()\n",
        "print(citylist)"
      ],
      "metadata": {
        "colab": {
          "base_uri": "https://localhost:8080/"
        },
        "id": "O3qU909lu4DR",
        "outputId": "40827b76-638d-4a83-e5a4-04fd1078ce23"
      },
      "execution_count": 34,
      "outputs": [
        {
          "output_type": "stream",
          "name": "stdout",
          "text": [
            "['Fort Worth', 'Las Vegas', 'New York', 'Tokyo']\n",
            "['Tokyo', 'New York', 'Las Vegas', 'Fort Worth']\n"
          ]
        }
      ]
    },
    {
      "cell_type": "code",
      "source": [
        "# Create a list with 3 animals\n",
        "dinosaur_list = [\"Sauroposeidon\",\"Opisthocoelicaudia\",\"Micropachycephalosaurus\"]\n",
        "\n",
        "# Use a for loop to print each animal\n",
        "for dinosaur in dinosaur_list:\n",
        "  print(dinosaur)"
      ],
      "metadata": {
        "colab": {
          "base_uri": "https://localhost:8080/"
        },
        "id": "5lxQQThEu9z_",
        "outputId": "68fbd3a3-cad8-4ab4-d4a7-488d56a566ca"
      },
      "execution_count": 35,
      "outputs": [
        {
          "output_type": "stream",
          "name": "stdout",
          "text": [
            "Sauroposeidon\n",
            "Opisthocoelicaudia\n",
            "Micropachycephalosaurus\n"
          ]
        }
      ]
    },
    {
      "cell_type": "code",
      "source": [
        "# Create a list with numbers from 1 to 5\n",
        "numberlist = [1, 2, 3, 4, 5]\n",
        "\n",
        "# Use a for loop to print each number multiplied by 2\n",
        "for num in numberlist:\n",
        "  print(num * 2)"
      ],
      "metadata": {
        "colab": {
          "base_uri": "https://localhost:8080/"
        },
        "id": "37JB_HL-vDAC",
        "outputId": "9f2e3e8a-be7a-44e8-84ba-ce83f87b79fa"
      },
      "execution_count": 36,
      "outputs": [
        {
          "output_type": "stream",
          "name": "stdout",
          "text": [
            "2\n",
            "4\n",
            "6\n",
            "8\n",
            "10\n"
          ]
        }
      ]
    },
    {
      "cell_type": "code",
      "source": [
        "# Create a list with 6 friends\n",
        "friendlist = [\"Patrick\",\"Atlas\",\"Temmie\",\"Ryan\",\"Ben\",\"Dax\"]\n",
        "\n",
        "# Print the first three friends\n",
        "print(friendlist[:3])\n",
        "\n",
        "# Print the last three friends\n",
        "print(friendlist[-3:])"
      ],
      "metadata": {
        "colab": {
          "base_uri": "https://localhost:8080/"
        },
        "id": "WXTh95dbvHLM",
        "outputId": "107c8378-24b0-4cf7-dd6c-e8924f1e8842"
      },
      "execution_count": 37,
      "outputs": [
        {
          "output_type": "stream",
          "name": "stdout",
          "text": [
            "['Patrick', 'Atlas', 'Temmie']\n",
            "['Ryan', 'Ben', 'Dax']\n"
          ]
        }
      ]
    },
    {
      "cell_type": "code",
      "source": [
        "# Use range() to create a list with numbers from 1 to 10\n",
        "numrange = list(range(1, 11))\n",
        "\n",
        "# Print the list\n",
        "print(numrange)"
      ],
      "metadata": {
        "colab": {
          "base_uri": "https://localhost:8080/"
        },
        "id": "COSowbmhvNil",
        "outputId": "9e953af6-afa3-4eb0-bb9b-c2ec376cc896"
      },
      "execution_count": 38,
      "outputs": [
        {
          "output_type": "stream",
          "name": "stdout",
          "text": [
            "[1, 2, 3, 4, 5, 6, 7, 8, 9, 10]\n"
          ]
        }
      ]
    },
    {
      "cell_type": "code",
      "source": [
        "# Use list comprehension to create a list with the squares of numbers from 1 to 5\n",
        "numsquares = [x**2 for x in range (1, 6)]\n",
        "\n",
        "# Print the list\n",
        "print(numsquares)"
      ],
      "metadata": {
        "colab": {
          "base_uri": "https://localhost:8080/"
        },
        "id": "Y1pm9kgUvSGb",
        "outputId": "b812502a-6582-4a3d-f2ff-9c28f917566a"
      },
      "execution_count": 39,
      "outputs": [
        {
          "output_type": "stream",
          "name": "stdout",
          "text": [
            "[1, 4, 9, 16, 25]\n"
          ]
        }
      ]
    }
  ]
}